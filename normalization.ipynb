{
 "cells": [
  {
   "cell_type": "code",
   "execution_count": 1,
   "metadata": {},
   "outputs": [],
   "source": [
    "import numpy as np\n",
    "import pandas as pd"
   ]
  },
  {
   "cell_type": "code",
   "execution_count": 2,
   "metadata": {},
   "outputs": [
    {
     "name": "stdout",
     "output_type": "stream",
     "text": [
      "(2862, 387)\n"
     ]
    }
   ],
   "source": [
    "data = pd.read_csv('Validation_data_Imperial2.csv')\n",
    "print(np.shape(data))"
   ]
  },
  {
   "cell_type": "code",
   "execution_count": 3,
   "metadata": {},
   "outputs": [
    {
     "name": "stdout",
     "output_type": "stream",
     "text": [
      "(2286, 387)\n"
     ]
    }
   ],
   "source": [
    "# remove aneugen controls and clastogen controls\n",
    "data1 = data[-data['Compound_Name'].isin(['Aneugen'])]\n",
    "data1 = data1[-data1['Compound_Name'].isin(['Clastogen'])]\n",
    "print(np.shape(data1))"
   ]
  },
  {
   "cell_type": "code",
   "execution_count": 4,
   "metadata": {},
   "outputs": [
    {
     "name": "stdout",
     "output_type": "stream",
     "text": [
      "(2286, 154)\n",
      "(2286, 151)\n"
     ]
    }
   ],
   "source": [
    "#remove columns that contain zeros and NA\n",
    "data2 = data1.dropna(axis=1)\n",
    "print(np.shape(data2))\n",
    "cols_zero = [x for i,x in enumerate(data2.columns) if data2.iat[0,i]==0]\n",
    "data2 = data2.drop(cols_zero,axis=1)\n",
    "print(np.shape(data2))"
   ]
  },
  {
   "cell_type": "code",
   "execution_count": 5,
   "metadata": {},
   "outputs": [],
   "source": [
    "list2 = ['PlateName','WellName','ScreenName','MeasurementDate','Project','Compound_Name','Class','Concentration','Concentration_Unit']\n",
    "list1 = data2.columns.to_list()\n",
    "list3 = list(set(list1) - set(list2))"
   ]
  },
  {
   "cell_type": "code",
   "execution_count": 10,
   "metadata": {},
   "outputs": [
    {
     "name": "stderr",
     "output_type": "stream",
     "text": [
      "C:\\Users\\kitty\\Anaconda3\\lib\\site-packages\\ipykernel_launcher.py:6: RuntimeWarning: divide by zero encountered in log2\n",
      "  \n"
     ]
    }
   ],
   "source": [
    "plate_list = set(data1['PlateName'])\n",
    "final_result = pd.DataFrame()\n",
    "for name in plate_list:\n",
    "    data_plate = data1[data1['PlateName']==name]\n",
    "    negative = data_plate[data_plate['Compound_Name']=='DMSO'][list3].mean()\n",
    "    normalization = np.log2(data_plate[list3]/negative)\n",
    "    final_result = final_result.append(normalization)\n",
    "    \n",
    "final_result = pd.DataFrame(final_result,dtype=np.float)\n",
    "columns_select = ['PlateName','WellName','ScreenName','MeasurementDate','Project','Compound_Name','Class','Concentration']\n",
    "df1 = data1[columns_select]\n",
    "result = pd.concat([df1, final_result], axis=1)\n",
    "result.to_csv('normalization.csv')"
   ]
  }
 ],
 "metadata": {
  "kernelspec": {
   "display_name": "Python 3",
   "language": "python",
   "name": "python3"
  },
  "language_info": {
   "codemirror_mode": {
    "name": "ipython",
    "version": 3
   },
   "file_extension": ".py",
   "mimetype": "text/x-python",
   "name": "python",
   "nbconvert_exporter": "python",
   "pygments_lexer": "ipython3",
   "version": "3.7.4"
  }
 },
 "nbformat": 4,
 "nbformat_minor": 2
}
