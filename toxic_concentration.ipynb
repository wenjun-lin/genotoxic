{
 "cells": [
  {
   "cell_type": "code",
   "execution_count": 2,
   "metadata": {},
   "outputs": [],
   "source": [
    "import numpy as np\n",
    "import pandas as pd"
   ]
  },
  {
   "cell_type": "code",
   "execution_count": 3,
   "metadata": {},
   "outputs": [],
   "source": [
    "data = pd.read_csv('normalization1.csv')"
   ]
  },
  {
   "cell_type": "code",
   "execution_count": 4,
   "metadata": {},
   "outputs": [],
   "source": [
    "feature = 'Nuclei_-_Number_of_Objects'\n",
    "list_select = ['Compound_Name','ScreenName','Concentration']\n",
    "ScreenName=set(data['ScreenName'])\n",
    "compound_list = set(data[data['Compound_Name']!='DMSO']['Compound_Name'])"
   ]
  },
  {
   "cell_type": "code",
   "execution_count": 8,
   "metadata": {},
   "outputs": [],
   "source": [
    "#toxic dose & one more dose\n",
    "result = pd.DataFrame()\n",
    "for compound in compound_list:\n",
    "    for screen in ScreenName:\n",
    "        data1 = data[(data['Compound_Name']==compound)&(data['ScreenName']==screen)]\n",
    "        if np.shape(data1)[0]!=0:\n",
    "            for i in range(15):\n",
    "                if (data1[feature].iloc[i]+data1[feature].iloc[i+15])/2 >= -0.5:\n",
    "                    if i == 0:\n",
    "                        result = result.append(data1[list_select].iloc[0])\n",
    "                    else:\n",
    "                        result = result.append(data1[list_select].iloc[i-1])\n",
    "                        result = result.append(data1[list_select].iloc[i-2])\n",
    "                    break   "
   ]
  },
  {
   "cell_type": "code",
   "execution_count": 9,
   "metadata": {},
   "outputs": [],
   "source": [
    "result.to_csv('toxic_two_dose.csv')"
   ]
  },
  {
   "cell_type": "code",
   "execution_count": 5,
   "metadata": {},
   "outputs": [],
   "source": [
    "#toxic dose\n",
    "result = pd.DataFrame()\n",
    "for compound in compound_list:\n",
    "    for screen in ScreenName:\n",
    "        data1 = data[(data['Compound_Name']==compound)&(data['ScreenName']==screen)]\n",
    "        if np.shape(data1)[0]!=0:\n",
    "            for i in range(15):\n",
    "                if (data1[feature].iloc[i]+data1[feature].iloc[i+15])/2 >= -0.5:\n",
    "                    if i == 0:\n",
    "                        result = result.append(data1[list_select].iloc[0])\n",
    "                    else:\n",
    "                        result = result.append(data1[list_select].iloc[i-1])\n",
    "                    break   "
   ]
  },
  {
   "cell_type": "code",
   "execution_count": 7,
   "metadata": {},
   "outputs": [],
   "source": [
    "result.to_csv('toxic_concentration.csv')"
   ]
  },
  {
   "cell_type": "code",
   "execution_count": 6,
   "metadata": {},
   "outputs": [
    {
     "name": "stdout",
     "output_type": "stream",
     "text": [
      "               Compound_Name  Concentration  \\\n",
      "452   Ethyl methanesulfonate           1.00   \n",
      "2184  Ethyl methanesulfonate           1.00   \n",
      "1205  Ethyl methanesulfonate           1.00   \n",
      "288             Chlorambucil           0.01   \n",
      "1970            Chlorambucil           0.01   \n",
      "...                      ...            ...   \n",
      "422              Carbendazim           0.01   \n",
      "1716             Carbendazim           0.01   \n",
      "1240             Carbendazim           0.01   \n",
      "557               Zidovudine           0.10   \n",
      "1861              Zidovudine           1.00   \n",
      "\n",
      "                                ScreenName  \n",
      "452                 Q1_2017_GeneTox_Import  \n",
      "2184  20161118 Genotox MEGA screen 2016 Q4  \n",
      "1205  20160826 Genetox MEGA screen Q3 A549  \n",
      "288                 Q1_2017_GeneTox_Import  \n",
      "1970  20161118 Genotox MEGA screen 2016 Q4  \n",
      "...                                    ...  \n",
      "422                 Q1_2017_GeneTox_Import  \n",
      "1716  20161118 Genotox MEGA screen 2016 Q4  \n",
      "1240  20160826 Genetox MEGA screen Q3 A549  \n",
      "557                 Q1_2017_GeneTox_Import  \n",
      "1861  20161118 Genotox MEGA screen 2016 Q4  \n",
      "\n",
      "[63 rows x 3 columns]\n"
     ]
    }
   ],
   "source": [
    "print(result)"
   ]
  }
 ],
 "metadata": {
  "kernelspec": {
   "display_name": "Python 3",
   "language": "python",
   "name": "python3"
  },
  "language_info": {
   "codemirror_mode": {
    "name": "ipython",
    "version": 3
   },
   "file_extension": ".py",
   "mimetype": "text/x-python",
   "name": "python",
   "nbconvert_exporter": "python",
   "pygments_lexer": "ipython3",
   "version": "3.7.4"
  }
 },
 "nbformat": 4,
 "nbformat_minor": 2
}
